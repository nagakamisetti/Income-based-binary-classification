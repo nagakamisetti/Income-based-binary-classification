{
 "cells": [
  {
   "cell_type": "markdown",
   "id": "certified-exhibit",
   "metadata": {},
   "source": [
    "# Project Description\n",
    "\n",
    "In this project I want to understand the relationship between income with different variables like education, race and gender. In addition I want to build a supervised machine learning model to predict whether a person makes more than $50K a year.\n",
    "\n",
    "**Data** \n",
    "\n",
    ">This dataset is downloaded from [UCI Machine Learning Repository](https://archive.ics.uci.edu/ml/datasets/adult) originally curated based on 1994 census data. "
   ]
  },
  {
   "cell_type": "markdown",
   "id": "continuous-double",
   "metadata": {},
   "source": [
    "**Questions I want to answer**"
   ]
  },
  {
   "cell_type": "markdown",
   "id": "single-depth",
   "metadata": {},
   "source": [
    "1. What is the relationship between education and income?\n",
    "2. What is the relationship between age and income?\n",
    "3. What is the relationship between immigrant status and income?\n",
    "4. Is there a significant difference in the proportion of people who make more than `$`50K based on sex? \n",
    "5. Are capital gains/losses associated with people with high income (>`$`50K)?\n",
    "6. Do people who work overtime make more money in general than others?"
   ]
  },
  {
   "cell_type": "raw",
   "id": "spiritual-framing",
   "metadata": {},
   "source": [
    "Load important libraries used for data analysis."
   ]
  },
  {
   "cell_type": "code",
   "execution_count": 1,
   "id": "portuguese-senator",
   "metadata": {},
   "outputs": [],
   "source": [
    "# %load ../../../../useful_codes/importing_code.py\n",
    "import pandas as pd \n",
    "import numpy as np \n",
    "import matplotlib.pyplot as plt \n",
    "import seaborn as sns \n",
    "%matplotlib inline\n",
    "%config Completer.use_jedi = False\n",
    "\n",
    "from matplotlib import rcParams \n",
    "rcParams['figure.figsize'] = 15,6\n",
    "\n",
    "pd.set_option(\"display.max_rows\", None)\n",
    "pd.set_option(\"display.max_colwidth\", None)\n",
    "pd.set_option(\"display.max_columns\", None)"
   ]
  },
  {
   "cell_type": "code",
   "execution_count": 2,
   "id": "macro-vacuum",
   "metadata": {},
   "outputs": [],
   "source": [
    "# column names in the dataset\n",
    "col_names = ['age','workclass','fnlwgt','education','education_num','marital_status',\\\n",
    "            'occupation','relationship','race','sex','capital_gains','capital_losses',\\\n",
    "            'hrs_per_week','native_country','income']"
   ]
  },
  {
   "cell_type": "raw",
   "id": "hispanic-complex",
   "metadata": {},
   "source": [
    "dataset is encoded with '?' for missing values. "
   ]
  },
  {
   "cell_type": "code",
   "execution_count": 3,
   "id": "indie-minister",
   "metadata": {},
   "outputs": [
    {
     "name": "stderr",
     "output_type": "stream",
     "text": [
      "<ipython-input-3-3195581f440e>:1: ParserWarning: Falling back to the 'python' engine because the 'c' engine does not support regex separators (separators > 1 char and different from '\\s+' are interpreted as regex); you can avoid this warning by specifying engine='python'.\n",
      "  df = pd.read_csv('../../data/adult_training_data.csv', header=None,\\\n"
     ]
    }
   ],
   "source": [
    "df = pd.read_csv('../../data/adult_training_data.csv', header=None,\\\n",
    "                 names=col_names, na_values='?', sep=', ')"
   ]
  },
  {
   "cell_type": "markdown",
   "id": "muslim-cuisine",
   "metadata": {},
   "source": [
    "## Summary Stats "
   ]
  },
  {
   "cell_type": "code",
   "execution_count": 4,
   "id": "vietnamese-swift",
   "metadata": {},
   "outputs": [
    {
     "data": {
      "text/plain": [
       "(32561, 15)"
      ]
     },
     "execution_count": 4,
     "metadata": {},
     "output_type": "execute_result"
    }
   ],
   "source": [
    "df.shape"
   ]
  },
  {
   "cell_type": "raw",
   "id": "animal-feedback",
   "metadata": {},
   "source": [
    "see where the missing values are"
   ]
  },
  {
   "cell_type": "code",
   "execution_count": 5,
   "id": "floppy-april",
   "metadata": {},
   "outputs": [
    {
     "data": {
      "text/plain": [
       "age                  0\n",
       "workclass         1836\n",
       "fnlwgt               0\n",
       "education            0\n",
       "education_num        0\n",
       "marital_status       0\n",
       "occupation        1843\n",
       "relationship         0\n",
       "race                 0\n",
       "sex                  0\n",
       "capital_gains        0\n",
       "capital_losses       0\n",
       "hrs_per_week         0\n",
       "native_country     583\n",
       "income               0\n",
       "dtype: int64"
      ]
     },
     "execution_count": 5,
     "metadata": {},
     "output_type": "execute_result"
    }
   ],
   "source": [
    "df.isnull().sum()"
   ]
  },
  {
   "cell_type": "raw",
   "id": "seventh-shopping",
   "metadata": {},
   "source": [
    "Three variables are missing values for multiple rows. \n",
    "Adding three binary indicators for rows with missing values in any of the three fields. "
   ]
  },
  {
   "cell_type": "code",
   "execution_count": 6,
   "id": "documentary-sender",
   "metadata": {},
   "outputs": [],
   "source": [
    "df['missing_workclass'] = np.where(df.workclass.isnull(),1,0)\n",
    "df['missing_occupation'] = np.where(df.occupation.isnull(),1,0)\n",
    "df['missing_country'] = np.where(df.native_country.isnull(),1,0)"
   ]
  },
  {
   "cell_type": "code",
   "execution_count": 7,
   "id": "beautiful-education",
   "metadata": {},
   "outputs": [
    {
     "data": {
      "text/plain": [
       "missing_workclass  missing_occupation  missing_country\n",
       "0                  0                   0                  30162\n",
       "                                       1                    556\n",
       "                   1                   0                      7\n",
       "1                  1                   0                   1809\n",
       "                                       1                     27\n",
       "dtype: int64"
      ]
     },
     "execution_count": 7,
     "metadata": {},
     "output_type": "execute_result"
    }
   ],
   "source": [
    "df.groupby(['missing_workclass','missing_occupation','missing_country']).size()"
   ]
  },
  {
   "cell_type": "raw",
   "id": "sound-twins",
   "metadata": {},
   "source": [
    "There are 30162 rows without any missing values. use this in modeling with removal of rows approach further in modeling section. "
   ]
  },
  {
   "cell_type": "markdown",
   "id": "lined-franklin",
   "metadata": {},
   "source": [
    "same rows missing workclass are also missing occupation. "
   ]
  },
  {
   "cell_type": "code",
   "execution_count": 8,
   "id": "necessary-wings",
   "metadata": {},
   "outputs": [
    {
     "data": {
      "text/html": [
       "<div>\n",
       "<style scoped>\n",
       "    .dataframe tbody tr th:only-of-type {\n",
       "        vertical-align: middle;\n",
       "    }\n",
       "\n",
       "    .dataframe tbody tr th {\n",
       "        vertical-align: top;\n",
       "    }\n",
       "\n",
       "    .dataframe thead th {\n",
       "        text-align: right;\n",
       "    }\n",
       "</style>\n",
       "<table border=\"1\" class=\"dataframe\">\n",
       "  <thead>\n",
       "    <tr style=\"text-align: right;\">\n",
       "      <th></th>\n",
       "      <th>age</th>\n",
       "      <th>fnlwgt</th>\n",
       "      <th>education_num</th>\n",
       "      <th>capital_gains</th>\n",
       "      <th>capital_losses</th>\n",
       "      <th>hrs_per_week</th>\n",
       "      <th>missing_workclass</th>\n",
       "      <th>missing_occupation</th>\n",
       "      <th>missing_country</th>\n",
       "    </tr>\n",
       "  </thead>\n",
       "  <tbody>\n",
       "    <tr>\n",
       "      <th>count</th>\n",
       "      <td>32561.000000</td>\n",
       "      <td>3.256100e+04</td>\n",
       "      <td>32561.000000</td>\n",
       "      <td>32561.000000</td>\n",
       "      <td>32561.000000</td>\n",
       "      <td>32561.000000</td>\n",
       "      <td>32561.000000</td>\n",
       "      <td>32561.000000</td>\n",
       "      <td>32561.000000</td>\n",
       "    </tr>\n",
       "    <tr>\n",
       "      <th>mean</th>\n",
       "      <td>38.581647</td>\n",
       "      <td>1.897784e+05</td>\n",
       "      <td>10.080679</td>\n",
       "      <td>1077.648844</td>\n",
       "      <td>87.303830</td>\n",
       "      <td>40.437456</td>\n",
       "      <td>0.056386</td>\n",
       "      <td>0.056601</td>\n",
       "      <td>0.017905</td>\n",
       "    </tr>\n",
       "    <tr>\n",
       "      <th>std</th>\n",
       "      <td>13.640433</td>\n",
       "      <td>1.055500e+05</td>\n",
       "      <td>2.572720</td>\n",
       "      <td>7385.292085</td>\n",
       "      <td>402.960219</td>\n",
       "      <td>12.347429</td>\n",
       "      <td>0.230670</td>\n",
       "      <td>0.231083</td>\n",
       "      <td>0.132608</td>\n",
       "    </tr>\n",
       "    <tr>\n",
       "      <th>min</th>\n",
       "      <td>17.000000</td>\n",
       "      <td>1.228500e+04</td>\n",
       "      <td>1.000000</td>\n",
       "      <td>0.000000</td>\n",
       "      <td>0.000000</td>\n",
       "      <td>1.000000</td>\n",
       "      <td>0.000000</td>\n",
       "      <td>0.000000</td>\n",
       "      <td>0.000000</td>\n",
       "    </tr>\n",
       "    <tr>\n",
       "      <th>25%</th>\n",
       "      <td>28.000000</td>\n",
       "      <td>1.178270e+05</td>\n",
       "      <td>9.000000</td>\n",
       "      <td>0.000000</td>\n",
       "      <td>0.000000</td>\n",
       "      <td>40.000000</td>\n",
       "      <td>0.000000</td>\n",
       "      <td>0.000000</td>\n",
       "      <td>0.000000</td>\n",
       "    </tr>\n",
       "    <tr>\n",
       "      <th>50%</th>\n",
       "      <td>37.000000</td>\n",
       "      <td>1.783560e+05</td>\n",
       "      <td>10.000000</td>\n",
       "      <td>0.000000</td>\n",
       "      <td>0.000000</td>\n",
       "      <td>40.000000</td>\n",
       "      <td>0.000000</td>\n",
       "      <td>0.000000</td>\n",
       "      <td>0.000000</td>\n",
       "    </tr>\n",
       "    <tr>\n",
       "      <th>75%</th>\n",
       "      <td>48.000000</td>\n",
       "      <td>2.370510e+05</td>\n",
       "      <td>12.000000</td>\n",
       "      <td>0.000000</td>\n",
       "      <td>0.000000</td>\n",
       "      <td>45.000000</td>\n",
       "      <td>0.000000</td>\n",
       "      <td>0.000000</td>\n",
       "      <td>0.000000</td>\n",
       "    </tr>\n",
       "    <tr>\n",
       "      <th>max</th>\n",
       "      <td>90.000000</td>\n",
       "      <td>1.484705e+06</td>\n",
       "      <td>16.000000</td>\n",
       "      <td>99999.000000</td>\n",
       "      <td>4356.000000</td>\n",
       "      <td>99.000000</td>\n",
       "      <td>1.000000</td>\n",
       "      <td>1.000000</td>\n",
       "      <td>1.000000</td>\n",
       "    </tr>\n",
       "  </tbody>\n",
       "</table>\n",
       "</div>"
      ],
      "text/plain": [
       "                age        fnlwgt  education_num  capital_gains  \\\n",
       "count  32561.000000  3.256100e+04   32561.000000   32561.000000   \n",
       "mean      38.581647  1.897784e+05      10.080679    1077.648844   \n",
       "std       13.640433  1.055500e+05       2.572720    7385.292085   \n",
       "min       17.000000  1.228500e+04       1.000000       0.000000   \n",
       "25%       28.000000  1.178270e+05       9.000000       0.000000   \n",
       "50%       37.000000  1.783560e+05      10.000000       0.000000   \n",
       "75%       48.000000  2.370510e+05      12.000000       0.000000   \n",
       "max       90.000000  1.484705e+06      16.000000   99999.000000   \n",
       "\n",
       "       capital_losses  hrs_per_week  missing_workclass  missing_occupation  \\\n",
       "count    32561.000000  32561.000000       32561.000000        32561.000000   \n",
       "mean        87.303830     40.437456           0.056386            0.056601   \n",
       "std        402.960219     12.347429           0.230670            0.231083   \n",
       "min          0.000000      1.000000           0.000000            0.000000   \n",
       "25%          0.000000     40.000000           0.000000            0.000000   \n",
       "50%          0.000000     40.000000           0.000000            0.000000   \n",
       "75%          0.000000     45.000000           0.000000            0.000000   \n",
       "max       4356.000000     99.000000           1.000000            1.000000   \n",
       "\n",
       "       missing_country  \n",
       "count     32561.000000  \n",
       "mean          0.017905  \n",
       "std           0.132608  \n",
       "min           0.000000  \n",
       "25%           0.000000  \n",
       "50%           0.000000  \n",
       "75%           0.000000  \n",
       "max           1.000000  "
      ]
     },
     "execution_count": 8,
     "metadata": {},
     "output_type": "execute_result"
    }
   ],
   "source": [
    "df.describe()"
   ]
  },
  {
   "cell_type": "markdown",
   "id": "parental-treasurer",
   "metadata": {},
   "source": [
    "## Univariate Analysis "
   ]
  },
  {
   "cell_type": "raw",
   "id": "welsh-parker",
   "metadata": {},
   "source": [
    "get an understanding of each variable. "
   ]
  },
  {
   "cell_type": "markdown",
   "id": "stock-nerve",
   "metadata": {},
   "source": [
    "**Distribution of Age**"
   ]
  },
  {
   "cell_type": "code",
   "execution_count": 9,
   "id": "muslim-affair",
   "metadata": {},
   "outputs": [
    {
     "name": "stderr",
     "output_type": "stream",
     "text": [
      "/Users/nagakamisetti/opt/anaconda3/envs/mlenv/lib/python3.8/site-packages/seaborn/distributions.py:2557: FutureWarning: `distplot` is a deprecated function and will be removed in a future version. Please adapt your code to use either `displot` (a figure-level function with similar flexibility) or `histplot` (an axes-level function for histograms).\n",
      "  warnings.warn(msg, FutureWarning)\n"
     ]
    },
    {
     "data": {
      "text/plain": [
       "<AxesSubplot:xlabel='age', ylabel='Density'>"
      ]
     },
     "execution_count": 9,
     "metadata": {},
     "output_type": "execute_result"
    },
    {
     "data": {
      "image/png": "[encoded data removed]",
      "text/plain": [
       "<Figure size 1080x432 with 1 Axes>"
      ]
     },
     "metadata": {
      "needs_background": "light"
     },
     "output_type": "display_data"
    }
   ],
   "source": [
    "sns.distplot(df.age)"
   ]
  },
  {
   "cell_type": "raw",
   "id": "thermal-vertical",
   "metadata": {},
   "source": [
    "most values are within 20-50 years range. "
   ]
  },
  {
   "cell_type": "markdown",
   "id": "closed-insulin",
   "metadata": {},
   "source": [
    "**Distribution of fnlwgt**"
   ]
  },
  {
   "cell_type": "raw",
   "id": "collect-project",
   "metadata": {},
   "source": [
    "This represents finalweight which indicates there are as many representative samples in the dataset."
   ]
  },
  {
   "cell_type": "code",
   "execution_count": 10,
   "id": "personal-dream",
   "metadata": {},
   "outputs": [
    {
     "name": "stderr",
     "output_type": "stream",
     "text": [
      "/Users/nagakamisetti/opt/anaconda3/envs/mlenv/lib/python3.8/site-packages/seaborn/distributions.py:2557: FutureWarning: `distplot` is a deprecated function and will be removed in a future version. Please adapt your code to use either `displot` (a figure-level function with similar flexibility) or `histplot` (an axes-level function for histograms).\n",
      "  warnings.warn(msg, FutureWarning)\n"
     ]
    },
    {
     "data": {
      "text/plain": [
       "<AxesSubplot:xlabel='fnlwgt', ylabel='Density'>"
      ]
     },
     "execution_count": 10,
     "metadata": {},
     "output_type": "execute_result"
    },
    {
     "data": {
      "image/png": "[encoded data removed]",
      "text/plain": [
       "<Figure size 1080x432 with 1 Axes>"
      ]
     },
     "metadata": {
      "needs_background": "light"
     },
     "output_type": "display_data"
    }
   ],
   "source": [
    "sns.distplot(df.fnlwgt)"
   ]
  },
  {
   "cell_type": "code",
   "execution_count": 11,
   "id": "official-linux",
   "metadata": {},
   "outputs": [
    {
     "data": {
      "text/plain": [
       "count    3.256100e+04\n",
       "mean     1.897784e+05\n",
       "std      1.055500e+05\n",
       "min      1.228500e+04\n",
       "25%      1.178270e+05\n",
       "50%      1.783560e+05\n",
       "75%      2.370510e+05\n",
       "max      1.484705e+06\n",
       "Name: fnlwgt, dtype: float64"
      ]
     },
     "execution_count": 11,
     "metadata": {},
     "output_type": "execute_result"
    }
   ],
   "source": [
    "df.fnlwgt.describe()"
   ]
  },
  {
   "cell_type": "code",
   "execution_count": 12,
   "id": "boolean-tribune",
   "metadata": {},
   "outputs": [],
   "source": [
    "# I don't think this is a important variable for predicting income\n"
   ]
  },
  {
   "cell_type": "markdown",
   "id": "loving-numbers",
   "metadata": {},
   "source": [
    "**Distribution of education**"
   ]
  },
  {
   "cell_type": "code",
   "execution_count": 13,
   "id": "personalized-calvin",
   "metadata": {},
   "outputs": [
    {
     "data": {
      "text/plain": [
       "<AxesSubplot:>"
      ]
     },
     "execution_count": 13,
     "metadata": {},
     "output_type": "execute_result"
    },
    {
     "data": {
      "image/png": "[encoded data removed]",
      "text/plain": [
       "<Figure size 1080x432 with 1 Axes>"
      ]
     },
     "metadata": {
      "needs_background": "light"
     },
     "output_type": "display_data"
    }
   ],
   "source": [
    "df.education.value_counts().plot(kind='bar')"
   ]
  },
  {
   "cell_type": "code",
   "execution_count": 14,
   "id": "multiple-federal",
   "metadata": {},
   "outputs": [],
   "source": [
    "# Should I keep the categories as is or should I merge some of them? \n",
    "# try both and see if this helps increase auc, accuracy. "
   ]
  },
  {
   "cell_type": "code",
   "execution_count": 15,
   "id": "painted-hepatitis",
   "metadata": {},
   "outputs": [
    {
     "data": {
      "text/plain": [
       "<AxesSubplot:>"
      ]
     },
     "execution_count": 15,
     "metadata": {},
     "output_type": "execute_result"
    },
    {
     "data": {
      "image/png": "[encoded data removed]",
      "text/plain": [
       "<Figure size 1080x432 with 1 Axes>"
      ]
     },
     "metadata": {
      "needs_background": "light"
     },
     "output_type": "display_data"
    }
   ],
   "source": [
    "df.education_num.value_counts().plot(kind='bar')"
   ]
  },
  {
   "cell_type": "code",
   "execution_count": 16,
   "id": "binding-condition",
   "metadata": {},
   "outputs": [
    {
     "data": {
      "text/plain": [
       "<AxesSubplot:>"
      ]
     },
     "execution_count": 16,
     "metadata": {},
     "output_type": "execute_result"
    },
    {
     "data": {
      "image/png": "[encoded data removed]",
      "text/plain": [
       "<Figure size 1080x432 with 1 Axes>"
      ]
     },
     "metadata": {
      "needs_background": "light"
     },
     "output_type": "display_data"
    }
   ],
   "source": [
    "df.marital_status.value_counts().plot(kind='bar')"
   ]
  },
  {
   "cell_type": "code",
   "execution_count": 17,
   "id": "quality-might",
   "metadata": {},
   "outputs": [
    {
     "data": {
      "text/plain": [
       "<AxesSubplot:>"
      ]
     },
     "execution_count": 17,
     "metadata": {},
     "output_type": "execute_result"
    },
    {
     "data": {
      "image/png": "[encoded data removed]",
      "text/plain": [
       "<Figure size 1080x432 with 1 Axes>"
      ]
     },
     "metadata": {
      "needs_background": "light"
     },
     "output_type": "display_data"
    }
   ],
   "source": [
    "df.occupation.value_counts().plot(kind='bar')"
   ]
  },
  {
   "cell_type": "code",
   "execution_count": 18,
   "id": "interracial-resident",
   "metadata": {},
   "outputs": [
    {
     "data": {
      "text/plain": [
       "Husband           13193\n",
       "Not-in-family      8305\n",
       "Own-child          5068\n",
       "Unmarried          3446\n",
       "Wife               1568\n",
       "Other-relative      981\n",
       "Name: relationship, dtype: int64"
      ]
     },
     "execution_count": 18,
     "metadata": {},
     "output_type": "execute_result"
    }
   ],
   "source": [
    "df.relationship.value_counts()"
   ]
  },
  {
   "cell_type": "code",
   "execution_count": 19,
   "id": "serious-capacity",
   "metadata": {},
   "outputs": [
    {
     "data": {
      "text/plain": [
       "White                 27816\n",
       "Black                  3124\n",
       "Asian-Pac-Islander     1039\n",
       "Amer-Indian-Eskimo      311\n",
       "Other                   271\n",
       "Name: race, dtype: int64"
      ]
     },
     "execution_count": 19,
     "metadata": {},
     "output_type": "execute_result"
    }
   ],
   "source": [
    "df.race.value_counts()"
   ]
  },
  {
   "cell_type": "code",
   "execution_count": 20,
   "id": "incoming-zambia",
   "metadata": {},
   "outputs": [
    {
     "data": {
      "text/plain": [
       "Male      21790\n",
       "Female    10771\n",
       "Name: sex, dtype: int64"
      ]
     },
     "execution_count": 20,
     "metadata": {},
     "output_type": "execute_result"
    }
   ],
   "source": [
    "df.sex.value_counts()"
   ]
  },
  {
   "cell_type": "code",
   "execution_count": 21,
   "id": "analyzed-collection",
   "metadata": {},
   "outputs": [
    {
     "data": {
      "text/plain": [
       "Male      13192\n",
       "Female        1\n",
       "Name: sex, dtype: int64"
      ]
     },
     "execution_count": 21,
     "metadata": {},
     "output_type": "execute_result"
    }
   ],
   "source": [
    "df[df.relationship=='Husband'].sex.value_counts()"
   ]
  },
  {
   "cell_type": "code",
   "execution_count": 22,
   "id": "original-covering",
   "metadata": {},
   "outputs": [
    {
     "data": {
      "text/html": [
       "<div>\n",
       "<style scoped>\n",
       "    .dataframe tbody tr th:only-of-type {\n",
       "        vertical-align: middle;\n",
       "    }\n",
       "\n",
       "    .dataframe tbody tr th {\n",
       "        vertical-align: top;\n",
       "    }\n",
       "\n",
       "    .dataframe thead th {\n",
       "        text-align: right;\n",
       "    }\n",
       "</style>\n",
       "<table border=\"1\" class=\"dataframe\">\n",
       "  <thead>\n",
       "    <tr style=\"text-align: right;\">\n",
       "      <th></th>\n",
       "      <th>age</th>\n",
       "      <th>workclass</th>\n",
       "      <th>fnlwgt</th>\n",
       "      <th>education</th>\n",
       "      <th>education_num</th>\n",
       "      <th>marital_status</th>\n",
       "      <th>occupation</th>\n",
       "      <th>relationship</th>\n",
       "      <th>race</th>\n",
       "      <th>sex</th>\n",
       "      <th>capital_gains</th>\n",
       "      <th>capital_losses</th>\n",
       "      <th>hrs_per_week</th>\n",
       "      <th>native_country</th>\n",
       "      <th>income</th>\n",
       "      <th>missing_workclass</th>\n",
       "      <th>missing_occupation</th>\n",
       "      <th>missing_country</th>\n",
       "    </tr>\n",
       "  </thead>\n",
       "  <tbody>\n",
       "    <tr>\n",
       "      <th>7109</th>\n",
       "      <td>34</td>\n",
       "      <td>Private</td>\n",
       "      <td>175878</td>\n",
       "      <td>HS-grad</td>\n",
       "      <td>9</td>\n",
       "      <td>Married-civ-spouse</td>\n",
       "      <td>Sales</td>\n",
       "      <td>Husband</td>\n",
       "      <td>White</td>\n",
       "      <td>Female</td>\n",
       "      <td>0</td>\n",
       "      <td>0</td>\n",
       "      <td>40</td>\n",
       "      <td>United-States</td>\n",
       "      <td>&lt;=50K</td>\n",
       "      <td>0</td>\n",
       "      <td>0</td>\n",
       "      <td>0</td>\n",
       "    </tr>\n",
       "  </tbody>\n",
       "</table>\n",
       "</div>"
      ],
      "text/plain": [
       "      age workclass  fnlwgt education  education_num      marital_status  \\\n",
       "7109   34   Private  175878   HS-grad              9  Married-civ-spouse   \n",
       "\n",
       "     occupation relationship   race     sex  capital_gains  capital_losses  \\\n",
       "7109      Sales      Husband  White  Female              0               0   \n",
       "\n",
       "      hrs_per_week native_country income  missing_workclass  \\\n",
       "7109            40  United-States  <=50K                  0   \n",
       "\n",
       "      missing_occupation  missing_country  \n",
       "7109                   0                0  "
      ]
     },
     "execution_count": 22,
     "metadata": {},
     "output_type": "execute_result"
    }
   ],
   "source": [
    "df[(df.relationship=='Husband')&(df.sex=='Female')]"
   ]
  },
  {
   "cell_type": "code",
   "execution_count": 23,
   "id": "packed-scholar",
   "metadata": {},
   "outputs": [
    {
     "data": {
      "text/plain": [
       "relationship    sex   \n",
       "Husband         Female        1\n",
       "                Male      13192\n",
       "Not-in-family   Female     3875\n",
       "                Male       4430\n",
       "Other-relative  Female      430\n",
       "                Male        551\n",
       "Own-child       Female     2245\n",
       "                Male       2823\n",
       "Unmarried       Female     2654\n",
       "                Male        792\n",
       "Wife            Female     1566\n",
       "                Male          2\n",
       "dtype: int64"
      ]
     },
     "execution_count": 23,
     "metadata": {},
     "output_type": "execute_result"
    }
   ],
   "source": [
    "df.groupby(['relationship','sex']).size()"
   ]
  },
  {
   "cell_type": "code",
   "execution_count": 24,
   "id": "fluid-density",
   "metadata": {},
   "outputs": [
    {
     "data": {
      "text/plain": [
       "array(['age', 'workclass', 'fnlwgt', 'education', 'education_num',\n",
       "       'marital_status', 'occupation', 'relationship', 'race', 'sex',\n",
       "       'capital_gains', 'capital_losses', 'hrs_per_week',\n",
       "       'native_country', 'income', 'missing_workclass',\n",
       "       'missing_occupation', 'missing_country'], dtype=object)"
      ]
     },
     "execution_count": 24,
     "metadata": {},
     "output_type": "execute_result"
    }
   ],
   "source": [
    "df.columns.values"
   ]
  },
  {
   "cell_type": "code",
   "execution_count": null,
   "id": "colonial-rehabilitation",
   "metadata": {},
   "outputs": [],
   "source": []
  },
  {
   "cell_type": "code",
   "execution_count": 25,
   "id": "cooked-darwin",
   "metadata": {},
   "outputs": [
    {
     "data": {
      "text/plain": [
       "<seaborn.axisgrid.FacetGrid at 0x7fbf5dc425e0>"
      ]
     },
     "execution_count": 25,
     "metadata": {},
     "output_type": "execute_result"
    },
    {
     "data": {
      "image/png": "[encoded data removed]",
      "text/plain": [
       "<Figure size 360x360 with 1 Axes>"
      ]
     },
     "metadata": {
      "needs_background": "light"
     },
     "output_type": "display_data"
    }
   ],
   "source": [
    "sns.displot(df.capital_gains)"
   ]
  },
  {
   "cell_type": "code",
   "execution_count": 26,
   "id": "alternate-hayes",
   "metadata": {},
   "outputs": [
    {
     "data": {
      "text/plain": [
       "count    32561.000000\n",
       "mean      1077.648844\n",
       "std       7385.292085\n",
       "min          0.000000\n",
       "25%          0.000000\n",
       "50%          0.000000\n",
       "75%          0.000000\n",
       "max      99999.000000\n",
       "Name: capital_gains, dtype: float64"
      ]
     },
     "execution_count": 26,
     "metadata": {},
     "output_type": "execute_result"
    }
   ],
   "source": [
    "df.capital_gains.describe()"
   ]
  },
  {
   "cell_type": "code",
   "execution_count": 27,
   "id": "affiliated-rebound",
   "metadata": {},
   "outputs": [
    {
     "data": {
      "text/plain": [
       "array(['age', 'workclass', 'fnlwgt', 'education', 'education_num',\n",
       "       'marital_status', 'occupation', 'relationship', 'race', 'sex',\n",
       "       'capital_gains', 'capital_losses', 'hrs_per_week',\n",
       "       'native_country', 'income', 'missing_workclass',\n",
       "       'missing_occupation', 'missing_country'], dtype=object)"
      ]
     },
     "execution_count": 27,
     "metadata": {},
     "output_type": "execute_result"
    }
   ],
   "source": [
    "df.columns.values"
   ]
  },
  {
   "cell_type": "code",
   "execution_count": 28,
   "id": "pressed-miami",
   "metadata": {},
   "outputs": [
    {
     "data": {
      "text/plain": [
       "15899841"
      ]
     },
     "execution_count": 28,
     "metadata": {},
     "output_type": "execute_result"
    }
   ],
   "source": [
    "df[df.capital_gains>99990].capital_gains.sum()"
   ]
  },
  {
   "cell_type": "code",
   "execution_count": 29,
   "id": "enclosed-honor",
   "metadata": {},
   "outputs": [
    {
     "data": {
      "text/plain": [
       "15899841"
      ]
     },
     "execution_count": 29,
     "metadata": {},
     "output_type": "execute_result"
    }
   ],
   "source": [
    "159*99999"
   ]
  },
  {
   "cell_type": "code",
   "execution_count": 30,
   "id": "inappropriate-target",
   "metadata": {},
   "outputs": [
    {
     "data": {
      "text/html": [
       "<div>\n",
       "<style scoped>\n",
       "    .dataframe tbody tr th:only-of-type {\n",
       "        vertical-align: middle;\n",
       "    }\n",
       "\n",
       "    .dataframe tbody tr th {\n",
       "        vertical-align: top;\n",
       "    }\n",
       "\n",
       "    .dataframe thead th {\n",
       "        text-align: right;\n",
       "    }\n",
       "</style>\n",
       "<table border=\"1\" class=\"dataframe\">\n",
       "  <thead>\n",
       "    <tr style=\"text-align: right;\">\n",
       "      <th></th>\n",
       "      <th>age</th>\n",
       "      <th>workclass</th>\n",
       "      <th>fnlwgt</th>\n",
       "      <th>education</th>\n",
       "      <th>education_num</th>\n",
       "      <th>marital_status</th>\n",
       "      <th>occupation</th>\n",
       "      <th>relationship</th>\n",
       "      <th>race</th>\n",
       "      <th>sex</th>\n",
       "      <th>capital_gains</th>\n",
       "      <th>capital_losses</th>\n",
       "      <th>hrs_per_week</th>\n",
       "      <th>native_country</th>\n",
       "      <th>income</th>\n",
       "      <th>missing_workclass</th>\n",
       "      <th>missing_occupation</th>\n",
       "      <th>missing_country</th>\n",
       "    </tr>\n",
       "  </thead>\n",
       "  <tbody>\n",
       "    <tr>\n",
       "      <th>12093</th>\n",
       "      <td>24</td>\n",
       "      <td>NaN</td>\n",
       "      <td>151153</td>\n",
       "      <td>Some-college</td>\n",
       "      <td>10</td>\n",
       "      <td>Never-married</td>\n",
       "      <td>NaN</td>\n",
       "      <td>Not-in-family</td>\n",
       "      <td>Asian-Pac-Islander</td>\n",
       "      <td>Male</td>\n",
       "      <td>99999</td>\n",
       "      <td>0</td>\n",
       "      <td>50</td>\n",
       "      <td>South</td>\n",
       "      <td>&gt;50K</td>\n",
       "      <td>1</td>\n",
       "      <td>1</td>\n",
       "      <td>0</td>\n",
       "    </tr>\n",
       "    <tr>\n",
       "      <th>17644</th>\n",
       "      <td>61</td>\n",
       "      <td>NaN</td>\n",
       "      <td>139391</td>\n",
       "      <td>Some-college</td>\n",
       "      <td>10</td>\n",
       "      <td>Married-civ-spouse</td>\n",
       "      <td>NaN</td>\n",
       "      <td>Husband</td>\n",
       "      <td>White</td>\n",
       "      <td>Male</td>\n",
       "      <td>99999</td>\n",
       "      <td>0</td>\n",
       "      <td>30</td>\n",
       "      <td>United-States</td>\n",
       "      <td>&gt;50K</td>\n",
       "      <td>1</td>\n",
       "      <td>1</td>\n",
       "      <td>0</td>\n",
       "    </tr>\n",
       "    <tr>\n",
       "      <th>19133</th>\n",
       "      <td>69</td>\n",
       "      <td>NaN</td>\n",
       "      <td>323016</td>\n",
       "      <td>Bachelors</td>\n",
       "      <td>13</td>\n",
       "      <td>Married-civ-spouse</td>\n",
       "      <td>NaN</td>\n",
       "      <td>Husband</td>\n",
       "      <td>White</td>\n",
       "      <td>Male</td>\n",
       "      <td>99999</td>\n",
       "      <td>0</td>\n",
       "      <td>40</td>\n",
       "      <td>United-States</td>\n",
       "      <td>&gt;50K</td>\n",
       "      <td>1</td>\n",
       "      <td>1</td>\n",
       "      <td>0</td>\n",
       "    </tr>\n",
       "    <tr>\n",
       "      <th>19438</th>\n",
       "      <td>58</td>\n",
       "      <td>NaN</td>\n",
       "      <td>266792</td>\n",
       "      <td>Some-college</td>\n",
       "      <td>10</td>\n",
       "      <td>Married-civ-spouse</td>\n",
       "      <td>NaN</td>\n",
       "      <td>Husband</td>\n",
       "      <td>White</td>\n",
       "      <td>Male</td>\n",
       "      <td>99999</td>\n",
       "      <td>0</td>\n",
       "      <td>40</td>\n",
       "      <td>United-States</td>\n",
       "      <td>&gt;50K</td>\n",
       "      <td>1</td>\n",
       "      <td>1</td>\n",
       "      <td>0</td>\n",
       "    </tr>\n",
       "  </tbody>\n",
       "</table>\n",
       "</div>"
      ],
      "text/plain": [
       "       age workclass  fnlwgt     education  education_num      marital_status  \\\n",
       "12093   24       NaN  151153  Some-college             10       Never-married   \n",
       "17644   61       NaN  139391  Some-college             10  Married-civ-spouse   \n",
       "19133   69       NaN  323016     Bachelors             13  Married-civ-spouse   \n",
       "19438   58       NaN  266792  Some-college             10  Married-civ-spouse   \n",
       "\n",
       "      occupation   relationship                race   sex  capital_gains  \\\n",
       "12093        NaN  Not-in-family  Asian-Pac-Islander  Male          99999   \n",
       "17644        NaN        Husband               White  Male          99999   \n",
       "19133        NaN        Husband               White  Male          99999   \n",
       "19438        NaN        Husband               White  Male          99999   \n",
       "\n",
       "       capital_losses  hrs_per_week native_country income  missing_workclass  \\\n",
       "12093               0            50          South   >50K                  1   \n",
       "17644               0            30  United-States   >50K                  1   \n",
       "19133               0            40  United-States   >50K                  1   \n",
       "19438               0            40  United-States   >50K                  1   \n",
       "\n",
       "       missing_occupation  missing_country  \n",
       "12093                   1                0  \n",
       "17644                   1                0  \n",
       "19133                   1                0  \n",
       "19438                   1                0  "
      ]
     },
     "execution_count": 30,
     "metadata": {},
     "output_type": "execute_result"
    }
   ],
   "source": [
    "df[(df.workclass.isnull())&(df.capital_gains>80000)]"
   ]
  },
  {
   "cell_type": "code",
   "execution_count": null,
   "id": "pressed-amazon",
   "metadata": {},
   "outputs": [],
   "source": []
  },
  {
   "cell_type": "code",
   "execution_count": 31,
   "id": "aggressive-skill",
   "metadata": {},
   "outputs": [
    {
     "data": {
      "text/plain": [
       "<seaborn.axisgrid.FacetGrid at 0x7fbf5da7aca0>"
      ]
     },
     "execution_count": 31,
     "metadata": {},
     "output_type": "execute_result"
    },
    {
     "data": {
      "image/png": "[encoded data removed]",
      "text/plain": [
       "<Figure size 360x360 with 1 Axes>"
      ]
     },
     "metadata": {
      "needs_background": "light"
     },
     "output_type": "display_data"
    }
   ],
   "source": [
    "sns.displot(df.capital_losses)"
   ]
  },
  {
   "cell_type": "code",
   "execution_count": null,
   "id": "extraordinary-bulgaria",
   "metadata": {},
   "outputs": [],
   "source": []
  },
  {
   "cell_type": "code",
   "execution_count": 32,
   "id": "sophisticated-rental",
   "metadata": {},
   "outputs": [
    {
     "data": {
      "text/plain": [
       "array(['age', 'workclass', 'fnlwgt', 'education', 'education_num',\n",
       "       'marital_status', 'occupation', 'relationship', 'race', 'sex',\n",
       "       'capital_gains', 'capital_losses', 'hrs_per_week',\n",
       "       'native_country', 'income', 'missing_workclass',\n",
       "       'missing_occupation', 'missing_country'], dtype=object)"
      ]
     },
     "execution_count": 32,
     "metadata": {},
     "output_type": "execute_result"
    }
   ],
   "source": [
    "df.columns.values"
   ]
  },
  {
   "cell_type": "code",
   "execution_count": 33,
   "id": "pressed-violence",
   "metadata": {},
   "outputs": [
    {
     "data": {
      "text/plain": [
       "<seaborn.axisgrid.FacetGrid at 0x7fbf5d9b5e20>"
      ]
     },
     "execution_count": 33,
     "metadata": {},
     "output_type": "execute_result"
    },
    {
     "data": {
      "image/png": "[encoded data removed]",
      "text/plain": [
       "<Figure size 360x360 with 1 Axes>"
      ]
     },
     "metadata": {
      "needs_background": "light"
     },
     "output_type": "display_data"
    }
   ],
   "source": [
    "sns.displot(df.hrs_per_week)"
   ]
  },
  {
   "cell_type": "code",
   "execution_count": 34,
   "id": "linear-trigger",
   "metadata": {},
   "outputs": [],
   "source": [
    "df['income_class'] = np.where(df.income=='>50K',1,0)"
   ]
  },
  {
   "cell_type": "code",
   "execution_count": 35,
   "id": "spoken-newport",
   "metadata": {},
   "outputs": [
    {
     "data": {
      "text/plain": [
       "0    0.75919\n",
       "1    0.24081\n",
       "Name: income_class, dtype: float64"
      ]
     },
     "execution_count": 35,
     "metadata": {},
     "output_type": "execute_result"
    }
   ],
   "source": [
    "df.income_class.value_counts(normalize=True)"
   ]
  },
  {
   "cell_type": "code",
   "execution_count": 36,
   "id": "juvenile-tract",
   "metadata": {},
   "outputs": [],
   "source": [
    "df_high = df[df.income_class==1]\n",
    "df_low = df[df.income_class==0]"
   ]
  },
  {
   "cell_type": "code",
   "execution_count": 37,
   "id": "ethical-fight",
   "metadata": {},
   "outputs": [
    {
     "data": {
      "text/plain": [
       "count    7841.000000\n",
       "mean       45.473026\n",
       "std        11.012971\n",
       "min         1.000000\n",
       "25%        40.000000\n",
       "50%        40.000000\n",
       "75%        50.000000\n",
       "max        99.000000\n",
       "Name: hrs_per_week, dtype: float64"
      ]
     },
     "execution_count": 37,
     "metadata": {},
     "output_type": "execute_result"
    }
   ],
   "source": [
    "df_high.hrs_per_week.describe()"
   ]
  },
  {
   "cell_type": "code",
   "execution_count": 38,
   "id": "common-miami",
   "metadata": {},
   "outputs": [
    {
     "data": {
      "text/plain": [
       "count    24720.000000\n",
       "mean        38.840210\n",
       "std         12.318995\n",
       "min          1.000000\n",
       "25%         35.000000\n",
       "50%         40.000000\n",
       "75%         40.000000\n",
       "max         99.000000\n",
       "Name: hrs_per_week, dtype: float64"
      ]
     },
     "execution_count": 38,
     "metadata": {},
     "output_type": "execute_result"
    }
   ],
   "source": [
    "df_low.hrs_per_week.describe()"
   ]
  },
  {
   "cell_type": "code",
   "execution_count": 39,
   "id": "proof-presentation",
   "metadata": {},
   "outputs": [
    {
     "data": {
      "text/plain": [
       "United-States                 29170\n",
       "Mexico                          643\n",
       "Philippines                     198\n",
       "Germany                         137\n",
       "Canada                          121\n",
       "Puerto-Rico                     114\n",
       "El-Salvador                     106\n",
       "India                           100\n",
       "Cuba                             95\n",
       "England                          90\n",
       "Jamaica                          81\n",
       "South                            80\n",
       "China                            75\n",
       "Italy                            73\n",
       "Dominican-Republic               70\n",
       "Vietnam                          67\n",
       "Guatemala                        64\n",
       "Japan                            62\n",
       "Poland                           60\n",
       "Columbia                         59\n",
       "Taiwan                           51\n",
       "Haiti                            44\n",
       "Iran                             43\n",
       "Portugal                         37\n",
       "Nicaragua                        34\n",
       "Peru                             31\n",
       "Greece                           29\n",
       "France                           29\n",
       "Ecuador                          28\n",
       "Ireland                          24\n",
       "Hong                             20\n",
       "Trinadad&Tobago                  19\n",
       "Cambodia                         19\n",
       "Thailand                         18\n",
       "Laos                             18\n",
       "Yugoslavia                       16\n",
       "Outlying-US(Guam-USVI-etc)       14\n",
       "Honduras                         13\n",
       "Hungary                          13\n",
       "Scotland                         12\n",
       "Holand-Netherlands                1\n",
       "Name: native_country, dtype: int64"
      ]
     },
     "execution_count": 39,
     "metadata": {},
     "output_type": "execute_result"
    }
   ],
   "source": [
    "df.native_country.value_counts()"
   ]
  },
  {
   "cell_type": "code",
   "execution_count": 40,
   "id": "knowing-invention",
   "metadata": {},
   "outputs": [],
   "source": [
    "def get_worktype(workclass):\n",
    "    \"\"\"\n",
    "    This function takes workclass\n",
    "    and returns worktype based on the \n",
    "    value in the workclass.\n",
    "    \n",
    "    input: workclass\n",
    "    output: worktype\n",
    "    \"\"\"\n",
    "    \n",
    "    gov_list = ['Local-gov','State-gov','Federal-gov']\n",
    "    self_emp_list = ['Self-emp-not-inc','Self-emp-inc']\n",
    "    nowork_list = ['Without-pay','Never-worked']\n",
    "    \n",
    "    if workclass in gov_list:\n",
    "        return 'Government'\n",
    "    elif workclass in self_emp_list:\n",
    "        return 'Self-Employed'\n",
    "    elif workclass in nowork_list:\n",
    "        return 'not-working'\n",
    "    else:\n",
    "        return workclass"
   ]
  },
  {
   "cell_type": "code",
   "execution_count": 42,
   "id": "fewer-drill",
   "metadata": {},
   "outputs": [],
   "source": [
    "df['worktype'] = df.workclass.apply(get_worktype)"
   ]
  },
  {
   "cell_type": "code",
   "execution_count": 43,
   "id": "diagnostic-harassment",
   "metadata": {},
   "outputs": [
    {
     "data": {
      "text/plain": [
       "Private          22696\n",
       "Government        4351\n",
       "Self-Employed     3657\n",
       "not-working         21\n",
       "Name: worktype, dtype: int64"
      ]
     },
     "execution_count": 43,
     "metadata": {},
     "output_type": "execute_result"
    }
   ],
   "source": [
    "df.worktype.value_counts()"
   ]
  },
  {
   "cell_type": "code",
   "execution_count": 44,
   "id": "recognized-terrorism",
   "metadata": {},
   "outputs": [],
   "source": [
    "df['reported_capital_gains'] = np.where(df.capital_gains>0,1,0)\n",
    "df['reported_capital_losses'] = np.where(df.capital_losses>0,1,0)\n",
    "df['is_investor'] = np.where(((df.capital_gains>0)|(df.capital_losses>0)),1,0)"
   ]
  },
  {
   "cell_type": "code",
   "execution_count": 45,
   "id": "underlying-paper",
   "metadata": {},
   "outputs": [
    {
     "data": {
      "text/html": [
       "<div>\n",
       "<style scoped>\n",
       "    .dataframe tbody tr th:only-of-type {\n",
       "        vertical-align: middle;\n",
       "    }\n",
       "\n",
       "    .dataframe tbody tr th {\n",
       "        vertical-align: top;\n",
       "    }\n",
       "\n",
       "    .dataframe thead th {\n",
       "        text-align: right;\n",
       "    }\n",
       "</style>\n",
       "<table border=\"1\" class=\"dataframe\">\n",
       "  <thead>\n",
       "    <tr style=\"text-align: right;\">\n",
       "      <th></th>\n",
       "      <th>age</th>\n",
       "      <th>workclass</th>\n",
       "      <th>fnlwgt</th>\n",
       "      <th>education</th>\n",
       "      <th>education_num</th>\n",
       "      <th>marital_status</th>\n",
       "      <th>occupation</th>\n",
       "      <th>relationship</th>\n",
       "      <th>race</th>\n",
       "      <th>sex</th>\n",
       "      <th>capital_gains</th>\n",
       "      <th>capital_losses</th>\n",
       "      <th>hrs_per_week</th>\n",
       "      <th>native_country</th>\n",
       "      <th>income</th>\n",
       "      <th>missing_workclass</th>\n",
       "      <th>missing_occupation</th>\n",
       "      <th>missing_country</th>\n",
       "      <th>income_class</th>\n",
       "      <th>worktype</th>\n",
       "      <th>reported_capital_gains</th>\n",
       "      <th>reported_capital_losses</th>\n",
       "      <th>is_investor</th>\n",
       "    </tr>\n",
       "  </thead>\n",
       "  <tbody>\n",
       "    <tr>\n",
       "      <th>9626</th>\n",
       "      <td>52</td>\n",
       "      <td>NaN</td>\n",
       "      <td>115209</td>\n",
       "      <td>Prof-school</td>\n",
       "      <td>15</td>\n",
       "      <td>Married-spouse-absent</td>\n",
       "      <td>NaN</td>\n",
       "      <td>Unmarried</td>\n",
       "      <td>Asian-Pac-Islander</td>\n",
       "      <td>Female</td>\n",
       "      <td>0</td>\n",
       "      <td>0</td>\n",
       "      <td>40</td>\n",
       "      <td>Vietnam</td>\n",
       "      <td>&lt;=50K</td>\n",
       "      <td>1</td>\n",
       "      <td>1</td>\n",
       "      <td>0</td>\n",
       "      <td>0</td>\n",
       "      <td>NaN</td>\n",
       "      <td>0</td>\n",
       "      <td>0</td>\n",
       "      <td>0</td>\n",
       "    </tr>\n",
       "    <tr>\n",
       "      <th>25794</th>\n",
       "      <td>33</td>\n",
       "      <td>Private</td>\n",
       "      <td>36539</td>\n",
       "      <td>Bachelors</td>\n",
       "      <td>13</td>\n",
       "      <td>Married-civ-spouse</td>\n",
       "      <td>Exec-managerial</td>\n",
       "      <td>Wife</td>\n",
       "      <td>White</td>\n",
       "      <td>Female</td>\n",
       "      <td>0</td>\n",
       "      <td>0</td>\n",
       "      <td>40</td>\n",
       "      <td>United-States</td>\n",
       "      <td>&gt;50K</td>\n",
       "      <td>0</td>\n",
       "      <td>0</td>\n",
       "      <td>0</td>\n",
       "      <td>1</td>\n",
       "      <td>Private</td>\n",
       "      <td>0</td>\n",
       "      <td>0</td>\n",
       "      <td>0</td>\n",
       "    </tr>\n",
       "    <tr>\n",
       "      <th>11599</th>\n",
       "      <td>22</td>\n",
       "      <td>Private</td>\n",
       "      <td>300871</td>\n",
       "      <td>Some-college</td>\n",
       "      <td>10</td>\n",
       "      <td>Never-married</td>\n",
       "      <td>Adm-clerical</td>\n",
       "      <td>Own-child</td>\n",
       "      <td>White</td>\n",
       "      <td>Male</td>\n",
       "      <td>0</td>\n",
       "      <td>0</td>\n",
       "      <td>40</td>\n",
       "      <td>United-States</td>\n",
       "      <td>&lt;=50K</td>\n",
       "      <td>0</td>\n",
       "      <td>0</td>\n",
       "      <td>0</td>\n",
       "      <td>0</td>\n",
       "      <td>Private</td>\n",
       "      <td>0</td>\n",
       "      <td>0</td>\n",
       "      <td>0</td>\n",
       "    </tr>\n",
       "    <tr>\n",
       "      <th>27580</th>\n",
       "      <td>26</td>\n",
       "      <td>Private</td>\n",
       "      <td>89326</td>\n",
       "      <td>Bachelors</td>\n",
       "      <td>13</td>\n",
       "      <td>Never-married</td>\n",
       "      <td>Sales</td>\n",
       "      <td>Not-in-family</td>\n",
       "      <td>White</td>\n",
       "      <td>Male</td>\n",
       "      <td>0</td>\n",
       "      <td>0</td>\n",
       "      <td>40</td>\n",
       "      <td>United-States</td>\n",
       "      <td>&lt;=50K</td>\n",
       "      <td>0</td>\n",
       "      <td>0</td>\n",
       "      <td>0</td>\n",
       "      <td>0</td>\n",
       "      <td>Private</td>\n",
       "      <td>0</td>\n",
       "      <td>0</td>\n",
       "      <td>0</td>\n",
       "    </tr>\n",
       "  </tbody>\n",
       "</table>\n",
       "</div>"
      ],
      "text/plain": [
       "       age workclass  fnlwgt     education  education_num  \\\n",
       "9626    52       NaN  115209   Prof-school             15   \n",
       "25794   33   Private   36539     Bachelors             13   \n",
       "11599   22   Private  300871  Some-college             10   \n",
       "27580   26   Private   89326     Bachelors             13   \n",
       "\n",
       "              marital_status       occupation   relationship  \\\n",
       "9626   Married-spouse-absent              NaN      Unmarried   \n",
       "25794     Married-civ-spouse  Exec-managerial           Wife   \n",
       "11599          Never-married     Adm-clerical      Own-child   \n",
       "27580          Never-married            Sales  Not-in-family   \n",
       "\n",
       "                     race     sex  capital_gains  capital_losses  \\\n",
       "9626   Asian-Pac-Islander  Female              0               0   \n",
       "25794               White  Female              0               0   \n",
       "11599               White    Male              0               0   \n",
       "27580               White    Male              0               0   \n",
       "\n",
       "       hrs_per_week native_country income  missing_workclass  \\\n",
       "9626             40        Vietnam  <=50K                  1   \n",
       "25794            40  United-States   >50K                  0   \n",
       "11599            40  United-States  <=50K                  0   \n",
       "27580            40  United-States  <=50K                  0   \n",
       "\n",
       "       missing_occupation  missing_country  income_class worktype  \\\n",
       "9626                    1                0             0      NaN   \n",
       "25794                   0                0             1  Private   \n",
       "11599                   0                0             0  Private   \n",
       "27580                   0                0             0  Private   \n",
       "\n",
       "       reported_capital_gains  reported_capital_losses  is_investor  \n",
       "9626                        0                        0            0  \n",
       "25794                       0                        0            0  \n",
       "11599                       0                        0            0  \n",
       "27580                       0                        0            0  "
      ]
     },
     "execution_count": 45,
     "metadata": {},
     "output_type": "execute_result"
    }
   ],
   "source": [
    "df.sample(4)"
   ]
  },
  {
   "cell_type": "markdown",
   "id": "ultimate-detector",
   "metadata": {},
   "source": [
    "# Multivariate Analysis"
   ]
  },
  {
   "cell_type": "raw",
   "id": "flexible-profit",
   "metadata": {},
   "source": [
    "testing the relationship of income with all other variables. "
   ]
  },
  {
   "cell_type": "code",
   "execution_count": 410,
   "id": "prime-washington",
   "metadata": {},
   "outputs": [
    {
     "data": {
      "text/plain": [
       "array(['age', 'workclass', 'fnlwgt', 'education', 'education_num',\n",
       "       'marital_status', 'occupation', 'relationship', 'race', 'sex',\n",
       "       'capital_gains', 'capital_losses', 'hrs_per_week',\n",
       "       'native_country', 'income', 'missing_workclass',\n",
       "       'missing_occupation', 'missing_country', 'income_class',\n",
       "       'worktype', 'reported_capital_gains', 'reported_capital_losses',\n",
       "       'is_investor'], dtype=object)"
      ]
     },
     "execution_count": 410,
     "metadata": {},
     "output_type": "execute_result"
    }
   ],
   "source": [
    "df.columns.values"
   ]
  },
  {
   "cell_type": "markdown",
   "id": "ceramic-china",
   "metadata": {},
   "source": [
    "**Age VS Income**"
   ]
  },
  {
   "cell_type": "code",
   "execution_count": 46,
   "id": "trying-chorus",
   "metadata": {},
   "outputs": [
    {
     "data": {
      "text/plain": [
       "count    32561.000000\n",
       "mean        38.581647\n",
       "std         13.640433\n",
       "min         17.000000\n",
       "25%         28.000000\n",
       "50%         37.000000\n",
       "75%         48.000000\n",
       "max         90.000000\n",
       "Name: age, dtype: float64"
      ]
     },
     "execution_count": 46,
     "metadata": {},
     "output_type": "execute_result"
    }
   ],
   "source": [
    "df.age.describe()"
   ]
  },
  {
   "cell_type": "code",
   "execution_count": 114,
   "id": "quiet-transition",
   "metadata": {},
   "outputs": [],
   "source": [
    "age_bins = pd.IntervalIndex.from_tuples([(0, 17), (18, 30), (31, 50),(51,65),(66,99)])"
   ]
  },
  {
   "cell_type": "code",
   "execution_count": 115,
   "id": "empirical-lingerie",
   "metadata": {},
   "outputs": [],
   "source": [
    "df['age_cat'] = pd.cut(df.age,age_bins)"
   ]
  },
  {
   "cell_type": "code",
   "execution_count": 99,
   "id": "meaningful-chambers",
   "metadata": {},
   "outputs": [],
   "source": [
    "def get_variable_target_correlation(df,categorical_variable,target):\n",
    "    \"\"\"\n",
    "    \"\"\"\n",
    "    df_gby_cv = df.groupby([target, categorical_variable]).size()\n",
    "    df_percentage = df_gby_cv.groupby(categorical_variable).apply(lambda x: (x*100)/x.sum()).unstack().transpose()\n",
    "    \n",
    "    return df_percentage\n",
    "    "
   ]
  },
  {
   "cell_type": "markdown",
   "id": "played-cause",
   "metadata": {},
   "source": [
    "**Income VS Race**"
   ]
  },
  {
   "cell_type": "code",
   "execution_count": 104,
   "id": "covered-hebrew",
   "metadata": {},
   "outputs": [],
   "source": [
    "income_age_df = get_variable_target_correlation(df,'age_cat', 'income_class')"
   ]
  },
  {
   "cell_type": "code",
   "execution_count": 112,
   "id": "introductory-shareware",
   "metadata": {},
   "outputs": [
    {
     "data": {
      "text/plain": [
       "<AxesSubplot:label='0bfdf802-c7e1-4fc6-8ca8-a748f4f72062', xlabel='age_cat'>"
      ]
     },
     "execution_count": 112,
     "metadata": {},
     "output_type": "execute_result"
    },
    {
     "data": {
      "image/png": "[encoded data removed]",
      "text/plain": [
       "<Figure size 1080x432 with 2 Axes>"
      ]
     },
     "metadata": {
      "needs_background": "light"
     },
     "output_type": "display_data"
    }
   ],
   "source": [
    "ax1 = df.age_cat.value_counts(sort=False).plot(kind='bar')\n",
    "ax2 = ax1.twinx()\n",
    "ax2.spines['right'].set_position(('axes', 1.0))\n",
    "income_age_df[1].plot(ax=ax2, style='r-')\n"
   ]
  },
  {
   "cell_type": "code",
   "execution_count": 113,
   "id": "agricultural-stockholm",
   "metadata": {},
   "outputs": [
    {
     "data": {
      "text/plain": [
       "(31, 50]    14641\n",
       "(18, 30]     9627\n",
       "(51, 65]     4707\n",
       "(66, 99]     1008\n",
       "(0, 17]       395\n",
       "Name: age_cat, dtype: int64"
      ]
     },
     "execution_count": 113,
     "metadata": {},
     "output_type": "execute_result"
    }
   ],
   "source": [
    "df.age_cat.value_counts()"
   ]
  },
  {
   "cell_type": "raw",
   "id": "optional-organ",
   "metadata": {},
   "source": [
    "There is some correlation with the age attribute as the proportion of people with high income increases as we go up in age group. "
   ]
  },
  {
   "cell_type": "code",
   "execution_count": 116,
   "id": "balanced-briefing",
   "metadata": {},
   "outputs": [],
   "source": [
    "income_sex_df = get_variable_target_correlation(df, 'sex','income_class')"
   ]
  },
  {
   "cell_type": "code",
   "execution_count": 117,
   "id": "ethical-provider",
   "metadata": {},
   "outputs": [
    {
     "data": {
      "text/html": [
       "<div>\n",
       "<style scoped>\n",
       "    .dataframe tbody tr th:only-of-type {\n",
       "        vertical-align: middle;\n",
       "    }\n",
       "\n",
       "    .dataframe tbody tr th {\n",
       "        vertical-align: top;\n",
       "    }\n",
       "\n",
       "    .dataframe thead th {\n",
       "        text-align: right;\n",
       "    }\n",
       "</style>\n",
       "<table border=\"1\" class=\"dataframe\">\n",
       "  <thead>\n",
       "    <tr style=\"text-align: right;\">\n",
       "      <th>income_class</th>\n",
       "      <th>0</th>\n",
       "      <th>1</th>\n",
       "    </tr>\n",
       "    <tr>\n",
       "      <th>sex</th>\n",
       "      <th></th>\n",
       "      <th></th>\n",
       "    </tr>\n",
       "  </thead>\n",
       "  <tbody>\n",
       "    <tr>\n",
       "      <th>Female</th>\n",
       "      <td>89.053941</td>\n",
       "      <td>10.946059</td>\n",
       "    </tr>\n",
       "    <tr>\n",
       "      <th>Male</th>\n",
       "      <td>69.426342</td>\n",
       "      <td>30.573658</td>\n",
       "    </tr>\n",
       "  </tbody>\n",
       "</table>\n",
       "</div>"
      ],
      "text/plain": [
       "income_class          0          1\n",
       "sex                               \n",
       "Female        89.053941  10.946059\n",
       "Male          69.426342  30.573658"
      ]
     },
     "execution_count": 117,
     "metadata": {},
     "output_type": "execute_result"
    }
   ],
   "source": [
    "income_sex_df"
   ]
  },
  {
   "cell_type": "code",
   "execution_count": 118,
   "id": "hybrid-segment",
   "metadata": {},
   "outputs": [],
   "source": [
    "income_investor_df = get_variable_target_correlation(df, 'is_investor','income_class')"
   ]
  },
  {
   "cell_type": "code",
   "execution_count": 119,
   "id": "dried-operations",
   "metadata": {},
   "outputs": [
    {
     "data": {
      "text/html": [
       "<div>\n",
       "<style scoped>\n",
       "    .dataframe tbody tr th:only-of-type {\n",
       "        vertical-align: middle;\n",
       "    }\n",
       "\n",
       "    .dataframe tbody tr th {\n",
       "        vertical-align: top;\n",
       "    }\n",
       "\n",
       "    .dataframe thead th {\n",
       "        text-align: right;\n",
       "    }\n",
       "</style>\n",
       "<table border=\"1\" class=\"dataframe\">\n",
       "  <thead>\n",
       "    <tr style=\"text-align: right;\">\n",
       "      <th>income_class</th>\n",
       "      <th>0</th>\n",
       "      <th>1</th>\n",
       "    </tr>\n",
       "    <tr>\n",
       "      <th>is_investor</th>\n",
       "      <th></th>\n",
       "      <th></th>\n",
       "    </tr>\n",
       "  </thead>\n",
       "  <tbody>\n",
       "    <tr>\n",
       "      <th>0</th>\n",
       "      <td>80.970702</td>\n",
       "      <td>19.029298</td>\n",
       "    </tr>\n",
       "    <tr>\n",
       "      <th>1</th>\n",
       "      <td>42.094068</td>\n",
       "      <td>57.905932</td>\n",
       "    </tr>\n",
       "  </tbody>\n",
       "</table>\n",
       "</div>"
      ],
      "text/plain": [
       "income_class          0          1\n",
       "is_investor                       \n",
       "0             80.970702  19.029298\n",
       "1             42.094068  57.905932"
      ]
     },
     "execution_count": 119,
     "metadata": {},
     "output_type": "execute_result"
    }
   ],
   "source": [
    "income_investor_df"
   ]
  },
  {
   "cell_type": "code",
   "execution_count": null,
   "id": "coordinated-cowboy",
   "metadata": {},
   "outputs": [],
   "source": []
  }
 ],
 "metadata": {
  "kernelspec": {
   "display_name": "Python 3",
   "language": "python",
   "name": "python3"
  },
  "language_info": {
   "codemirror_mode": {
    "name": "ipython",
    "version": 3
   },
   "file_extension": ".py",
   "mimetype": "text/x-python",
   "name": "python",
   "nbconvert_exporter": "python",
   "pygments_lexer": "ipython3",
   "version": "3.8.8"
  }
 },
 "nbformat": 4,
 "nbformat_minor": 5
}
