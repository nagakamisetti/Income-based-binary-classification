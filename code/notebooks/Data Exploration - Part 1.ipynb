{
 "cells": [
  {
   "cell_type": "markdown",
   "id": "latter-charlotte",
   "metadata": {},
   "source": [
    "# Project Description\n",
    "\n",
    "Build a predictive model to predict whether a person makes more than 50K a year."
   ]
  },
  {
   "cell_type": "raw",
   "id": "marked-berkeley",
   "metadata": {},
   "source": [
    "Load important libraries used for data analysis."
   ]
  },
  {
   "cell_type": "code",
   "execution_count": 253,
   "id": "straight-donna",
   "metadata": {},
   "outputs": [],
   "source": [
    "# %load ../../../../useful_codes/importing_code.py\n",
    "import pandas as pd \n",
    "import numpy as np \n",
    "import matplotlib.pyplot as plt \n",
    "import seaborn as sns \n",
    "%matplotlib inline\n",
    "%config Completer.use_jedi = False\n",
    "\n",
    "from matplotlib import rcParams \n",
    "rcParams['figure.figsize'] = 15,6\n",
    "\n",
    "pd.set_option(\"display.max_rows\", None)\n",
    "pd.set_option(\"display.max_colwidth\", None)\n",
    "pd.set_option(\"display.max_columns\", None)"
   ]
  },
  {
   "cell_type": "code",
   "execution_count": 254,
   "id": "macro-vacuum",
   "metadata": {},
   "outputs": [],
   "source": [
    "# column names in the dataset\n",
    "col_names = ['age','workclass','fnlwgt','education','education_num','marital_status',\\\n",
    "            'occupation','relationship','race','sex','capital_gains','capital_losses',\\\n",
    "            'hrs_per_week','native_country','salary']"
   ]
  },
  {
   "cell_type": "raw",
   "id": "controversial-reporter",
   "metadata": {},
   "source": [
    "dataset is encoded with '?' for missing values. "
   ]
  },
  {
   "cell_type": "code",
   "execution_count": 255,
   "id": "indie-minister",
   "metadata": {},
   "outputs": [
    {
     "name": "stderr",
     "output_type": "stream",
     "text": [
      "<ipython-input-255-3195581f440e>:1: ParserWarning: Falling back to the 'python' engine because the 'c' engine does not support regex separators (separators > 1 char and different from '\\s+' are interpreted as regex); you can avoid this warning by specifying engine='python'.\n",
      "  df = pd.read_csv('../../data/adult_training_data.csv', header=None,\\\n"
     ]
    }
   ],
   "source": [
    "df = pd.read_csv('../../data/adult_training_data.csv', header=None,\\\n",
    "                 names=col_names, na_values='?', sep=', ')"
   ]
  },
  {
   "cell_type": "markdown",
   "id": "contemporary-bradford",
   "metadata": {},
   "source": [
    "## Summary Stats "
   ]
  },
  {
   "cell_type": "code",
   "execution_count": 261,
   "id": "surprised-verse",
   "metadata": {},
   "outputs": [
    {
     "data": {
      "text/plain": [
       "(32561, 18)"
      ]
     },
     "execution_count": 261,
     "metadata": {},
     "output_type": "execute_result"
    }
   ],
   "source": [
    "df.shape"
   ]
  },
  {
   "cell_type": "raw",
   "id": "improving-clark",
   "metadata": {},
   "source": [
    "see where the missing values are"
   ]
  },
  {
   "cell_type": "code",
   "execution_count": 256,
   "id": "outstanding-kentucky",
   "metadata": {},
   "outputs": [
    {
     "data": {
      "text/plain": [
       "age                  0\n",
       "workclass         1836\n",
       "fnlwgt               0\n",
       "education            0\n",
       "education_num        0\n",
       "marital_status       0\n",
       "occupation        1843\n",
       "relationship         0\n",
       "race                 0\n",
       "sex                  0\n",
       "capital_gains        0\n",
       "capital_losses       0\n",
       "hrs_per_week         0\n",
       "native_country     583\n",
       "salary               0\n",
       "dtype: int64"
      ]
     },
     "execution_count": 256,
     "metadata": {},
     "output_type": "execute_result"
    }
   ],
   "source": [
    "df.isnull().sum()"
   ]
  },
  {
   "cell_type": "raw",
   "id": "extreme-electronics",
   "metadata": {},
   "source": [
    "Three variables are missing values for multiple rows. \n",
    "Adding three binary indicators for rows with missing values in any of the three fields. "
   ]
  },
  {
   "cell_type": "code",
   "execution_count": 258,
   "id": "sunrise-aging",
   "metadata": {},
   "outputs": [],
   "source": [
    "df['missing_workclass'] = np.where(df.workclass.isnull(),1,0)\n",
    "df['missing_occupation'] = np.where(df.occupation.isnull(),1,0)\n",
    "df['missing_country'] = np.where(df.native_country.isnull(),1,0)"
   ]
  },
  {
   "cell_type": "code",
   "execution_count": null,
   "id": "liable-outside",
   "metadata": {},
   "outputs": [],
   "source": [
    "df['missing_occupation'] = np.where(df.occupation.isnull(),1,0)"
   ]
  },
  {
   "cell_type": "code",
   "execution_count": 257,
   "id": "invisible-multimedia",
   "metadata": {},
   "outputs": [],
   "source": [
    "df['missing_country'] = np.where(df.native_country.isnull(),1,0)"
   ]
  },
  {
   "cell_type": "code",
   "execution_count": 262,
   "id": "indonesian-library",
   "metadata": {},
   "outputs": [
    {
     "data": {
      "text/plain": [
       "missing_workclass  missing_occupation  missing_country\n",
       "0                  0                   0                  30162\n",
       "                                       1                    556\n",
       "                   1                   0                      7\n",
       "1                  1                   0                   1809\n",
       "                                       1                     27\n",
       "dtype: int64"
      ]
     },
     "execution_count": 262,
     "metadata": {},
     "output_type": "execute_result"
    }
   ],
   "source": [
    "df.groupby(['missing_workclass','missing_occupation','missing_country']).size()"
   ]
  },
  {
   "cell_type": "raw",
   "id": "following-liverpool",
   "metadata": {},
   "source": [
    "There are 30162 rows without any missing values. use this in modeling with removal of rows approach further in modeling section. "
   ]
  },
  {
   "cell_type": "markdown",
   "id": "configured-billion",
   "metadata": {},
   "source": [
    "same rows missing workclass are also missing occupation. "
   ]
  },
  {
   "cell_type": "code",
   "execution_count": 260,
   "id": "invisible-diana",
   "metadata": {},
   "outputs": [
    {
     "data": {
      "text/html": [
       "<div>\n",
       "<style scoped>\n",
       "    .dataframe tbody tr th:only-of-type {\n",
       "        vertical-align: middle;\n",
       "    }\n",
       "\n",
       "    .dataframe tbody tr th {\n",
       "        vertical-align: top;\n",
       "    }\n",
       "\n",
       "    .dataframe thead th {\n",
       "        text-align: right;\n",
       "    }\n",
       "</style>\n",
       "<table border=\"1\" class=\"dataframe\">\n",
       "  <thead>\n",
       "    <tr style=\"text-align: right;\">\n",
       "      <th></th>\n",
       "      <th>age</th>\n",
       "      <th>fnlwgt</th>\n",
       "      <th>education_num</th>\n",
       "      <th>capital_gains</th>\n",
       "      <th>capital_losses</th>\n",
       "      <th>hrs_per_week</th>\n",
       "      <th>missing_country</th>\n",
       "      <th>missing_workclass</th>\n",
       "      <th>missing_occupation</th>\n",
       "    </tr>\n",
       "  </thead>\n",
       "  <tbody>\n",
       "    <tr>\n",
       "      <th>count</th>\n",
       "      <td>32561.000000</td>\n",
       "      <td>3.256100e+04</td>\n",
       "      <td>32561.000000</td>\n",
       "      <td>32561.000000</td>\n",
       "      <td>32561.000000</td>\n",
       "      <td>32561.000000</td>\n",
       "      <td>32561.000000</td>\n",
       "      <td>32561.000000</td>\n",
       "      <td>32561.000000</td>\n",
       "    </tr>\n",
       "    <tr>\n",
       "      <th>mean</th>\n",
       "      <td>38.581647</td>\n",
       "      <td>1.897784e+05</td>\n",
       "      <td>10.080679</td>\n",
       "      <td>1077.648844</td>\n",
       "      <td>87.303830</td>\n",
       "      <td>40.437456</td>\n",
       "      <td>0.017905</td>\n",
       "      <td>0.056386</td>\n",
       "      <td>0.056601</td>\n",
       "    </tr>\n",
       "    <tr>\n",
       "      <th>std</th>\n",
       "      <td>13.640433</td>\n",
       "      <td>1.055500e+05</td>\n",
       "      <td>2.572720</td>\n",
       "      <td>7385.292085</td>\n",
       "      <td>402.960219</td>\n",
       "      <td>12.347429</td>\n",
       "      <td>0.132608</td>\n",
       "      <td>0.230670</td>\n",
       "      <td>0.231083</td>\n",
       "    </tr>\n",
       "    <tr>\n",
       "      <th>min</th>\n",
       "      <td>17.000000</td>\n",
       "      <td>1.228500e+04</td>\n",
       "      <td>1.000000</td>\n",
       "      <td>0.000000</td>\n",
       "      <td>0.000000</td>\n",
       "      <td>1.000000</td>\n",
       "      <td>0.000000</td>\n",
       "      <td>0.000000</td>\n",
       "      <td>0.000000</td>\n",
       "    </tr>\n",
       "    <tr>\n",
       "      <th>25%</th>\n",
       "      <td>28.000000</td>\n",
       "      <td>1.178270e+05</td>\n",
       "      <td>9.000000</td>\n",
       "      <td>0.000000</td>\n",
       "      <td>0.000000</td>\n",
       "      <td>40.000000</td>\n",
       "      <td>0.000000</td>\n",
       "      <td>0.000000</td>\n",
       "      <td>0.000000</td>\n",
       "    </tr>\n",
       "    <tr>\n",
       "      <th>50%</th>\n",
       "      <td>37.000000</td>\n",
       "      <td>1.783560e+05</td>\n",
       "      <td>10.000000</td>\n",
       "      <td>0.000000</td>\n",
       "      <td>0.000000</td>\n",
       "      <td>40.000000</td>\n",
       "      <td>0.000000</td>\n",
       "      <td>0.000000</td>\n",
       "      <td>0.000000</td>\n",
       "    </tr>\n",
       "    <tr>\n",
       "      <th>75%</th>\n",
       "      <td>48.000000</td>\n",
       "      <td>2.370510e+05</td>\n",
       "      <td>12.000000</td>\n",
       "      <td>0.000000</td>\n",
       "      <td>0.000000</td>\n",
       "      <td>45.000000</td>\n",
       "      <td>0.000000</td>\n",
       "      <td>0.000000</td>\n",
       "      <td>0.000000</td>\n",
       "    </tr>\n",
       "    <tr>\n",
       "      <th>max</th>\n",
       "      <td>90.000000</td>\n",
       "      <td>1.484705e+06</td>\n",
       "      <td>16.000000</td>\n",
       "      <td>99999.000000</td>\n",
       "      <td>4356.000000</td>\n",
       "      <td>99.000000</td>\n",
       "      <td>1.000000</td>\n",
       "      <td>1.000000</td>\n",
       "      <td>1.000000</td>\n",
       "    </tr>\n",
       "  </tbody>\n",
       "</table>\n",
       "</div>"
      ],
      "text/plain": [
       "                age        fnlwgt  education_num  capital_gains  \\\n",
       "count  32561.000000  3.256100e+04   32561.000000   32561.000000   \n",
       "mean      38.581647  1.897784e+05      10.080679    1077.648844   \n",
       "std       13.640433  1.055500e+05       2.572720    7385.292085   \n",
       "min       17.000000  1.228500e+04       1.000000       0.000000   \n",
       "25%       28.000000  1.178270e+05       9.000000       0.000000   \n",
       "50%       37.000000  1.783560e+05      10.000000       0.000000   \n",
       "75%       48.000000  2.370510e+05      12.000000       0.000000   \n",
       "max       90.000000  1.484705e+06      16.000000   99999.000000   \n",
       "\n",
       "       capital_losses  hrs_per_week  missing_country  missing_workclass  \\\n",
       "count    32561.000000  32561.000000     32561.000000       32561.000000   \n",
       "mean        87.303830     40.437456         0.017905           0.056386   \n",
       "std        402.960219     12.347429         0.132608           0.230670   \n",
       "min          0.000000      1.000000         0.000000           0.000000   \n",
       "25%          0.000000     40.000000         0.000000           0.000000   \n",
       "50%          0.000000     40.000000         0.000000           0.000000   \n",
       "75%          0.000000     45.000000         0.000000           0.000000   \n",
       "max       4356.000000     99.000000         1.000000           1.000000   \n",
       "\n",
       "       missing_occupation  \n",
       "count        32561.000000  \n",
       "mean             0.056601  \n",
       "std              0.231083  \n",
       "min              0.000000  \n",
       "25%              0.000000  \n",
       "50%              0.000000  \n",
       "75%              0.000000  \n",
       "max              1.000000  "
      ]
     },
     "execution_count": 260,
     "metadata": {},
     "output_type": "execute_result"
    }
   ],
   "source": [
    "df.describe()"
   ]
  },
  {
   "cell_type": "markdown",
   "id": "skilled-budapest",
   "metadata": {},
   "source": [
    "## Univariate Analysis "
   ]
  },
  {
   "cell_type": "raw",
   "id": "interracial-analyst",
   "metadata": {},
   "source": [
    "get an understanding of each variable. "
   ]
  },
  {
   "cell_type": "markdown",
   "id": "stable-arlington",
   "metadata": {},
   "source": [
    "**Distribution of Age**"
   ]
  },
  {
   "cell_type": "code",
   "execution_count": 263,
   "id": "broken-tribute",
   "metadata": {},
   "outputs": [
    {
     "name": "stderr",
     "output_type": "stream",
     "text": [
      "/Users/nagakamisetti/opt/anaconda3/envs/mlenv/lib/python3.8/site-packages/seaborn/distributions.py:2557: FutureWarning: `distplot` is a deprecated function and will be removed in a future version. Please adapt your code to use either `displot` (a figure-level function with similar flexibility) or `histplot` (an axes-level function for histograms).\n",
      "  warnings.warn(msg, FutureWarning)\n"
     ]
    },
    {
     "data": {
      "text/plain": [
       "<AxesSubplot:xlabel='age', ylabel='Density'>"
      ]
     },
     "execution_count": 263,
     "metadata": {},
     "output_type": "execute_result"
    },
    {
     "data": {
      "image/png": "[encoded data removed]",
      "text/plain": [
       "<Figure size 1080x432 with 1 Axes>"
      ]
     },
     "metadata": {
      "needs_background": "light"
     },
     "output_type": "display_data"
    }
   ],
   "source": [
    "sns.distplot(df.age)"
   ]
  },
  {
   "cell_type": "raw",
   "id": "exposed-variation",
   "metadata": {},
   "source": [
    "most values are within 20-50 years range. "
   ]
  },
  {
   "cell_type": "code",
   "execution_count": 264,
   "id": "consolidated-peninsula",
   "metadata": {},
   "outputs": [
    {
     "data": {
      "text/plain": [
       "array(['age', 'workclass', 'fnlwgt', 'education', 'education_num',\n",
       "       'marital_status', 'occupation', 'relationship', 'race', 'sex',\n",
       "       'capital_gains', 'capital_losses', 'hrs_per_week',\n",
       "       'native_country', 'salary', 'missing_country', 'missing_workclass',\n",
       "       'missing_occupation'], dtype=object)"
      ]
     },
     "execution_count": 264,
     "metadata": {},
     "output_type": "execute_result"
    }
   ],
   "source": [
    "df.columns.values"
   ]
  },
  {
   "cell_type": "markdown",
   "id": "decreased-video",
   "metadata": {},
   "source": [
    "**Distribution of fnlwgt**"
   ]
  },
  {
   "cell_type": "raw",
   "id": "annoying-seven",
   "metadata": {},
   "source": [
    "This represents finalweight which indicates there are as many representative samples in the dataset."
   ]
  },
  {
   "cell_type": "code",
   "execution_count": 265,
   "id": "municipal-diversity",
   "metadata": {},
   "outputs": [
    {
     "name": "stderr",
     "output_type": "stream",
     "text": [
      "/Users/nagakamisetti/opt/anaconda3/envs/mlenv/lib/python3.8/site-packages/seaborn/distributions.py:2557: FutureWarning: `distplot` is a deprecated function and will be removed in a future version. Please adapt your code to use either `displot` (a figure-level function with similar flexibility) or `histplot` (an axes-level function for histograms).\n",
      "  warnings.warn(msg, FutureWarning)\n"
     ]
    },
    {
     "data": {
      "text/plain": [
       "<AxesSubplot:xlabel='fnlwgt', ylabel='Density'>"
      ]
     },
     "execution_count": 265,
     "metadata": {},
     "output_type": "execute_result"
    },
    {
     "data": {
      "image/png": "[encoded data removed]",
      "text/plain": [
       "<Figure size 1080x432 with 1 Axes>"
      ]
     },
     "metadata": {
      "needs_background": "light"
     },
     "output_type": "display_data"
    }
   ],
   "source": [
    "sns.distplot(df.fnlwgt)"
   ]
  },
  {
   "cell_type": "code",
   "execution_count": 266,
   "id": "encouraging-office",
   "metadata": {},
   "outputs": [
    {
     "data": {
      "text/plain": [
       "count    3.256100e+04\n",
       "mean     1.897784e+05\n",
       "std      1.055500e+05\n",
       "min      1.228500e+04\n",
       "25%      1.178270e+05\n",
       "50%      1.783560e+05\n",
       "75%      2.370510e+05\n",
       "max      1.484705e+06\n",
       "Name: fnlwgt, dtype: float64"
      ]
     },
     "execution_count": 266,
     "metadata": {},
     "output_type": "execute_result"
    }
   ],
   "source": [
    "df.fnlwgt.describe()"
   ]
  },
  {
   "cell_type": "code",
   "execution_count": null,
   "id": "square-internship",
   "metadata": {},
   "outputs": [],
   "source": [
    "# I don't think this is a important variable for predicting income\n"
   ]
  },
  {
   "cell_type": "code",
   "execution_count": null,
   "id": "acting-think",
   "metadata": {},
   "outputs": [],
   "source": [
    "df.education.unique()"
   ]
  },
  {
   "cell_type": "code",
   "execution_count": null,
   "id": "radio-margin",
   "metadata": {},
   "outputs": [],
   "source": [
    "df.marital_status.unique()"
   ]
  },
  {
   "cell_type": "code",
   "execution_count": null,
   "id": "incident-stupid",
   "metadata": {},
   "outputs": [],
   "source": [
    "df.head()"
   ]
  },
  {
   "cell_type": "code",
   "execution_count": null,
   "id": "hungarian-directory",
   "metadata": {},
   "outputs": [],
   "source": [
    "df.salary.value_counts(normalize=True)"
   ]
  },
  {
   "cell_type": "code",
   "execution_count": null,
   "id": "american-policy",
   "metadata": {},
   "outputs": [],
   "source": [
    "df['income_class'] = np.where(df.salary=='>50K',1,0)"
   ]
  },
  {
   "cell_type": "code",
   "execution_count": null,
   "id": "applicable-dietary",
   "metadata": {},
   "outputs": [],
   "source": [
    "df.income_class.value_counts(normalize=True)"
   ]
  },
  {
   "cell_type": "code",
   "execution_count": null,
   "id": "initial-sheet",
   "metadata": {},
   "outputs": [],
   "source": [
    "df.describe()"
   ]
  },
  {
   "cell_type": "code",
   "execution_count": null,
   "id": "mature-expression",
   "metadata": {},
   "outputs": [],
   "source": [
    "df.workclass.value_counts()"
   ]
  },
  {
   "cell_type": "code",
   "execution_count": null,
   "id": "vocal-mixture",
   "metadata": {},
   "outputs": [],
   "source": [
    "df.columns.values"
   ]
  },
  {
   "cell_type": "code",
   "execution_count": null,
   "id": "american-spider",
   "metadata": {},
   "outputs": [],
   "source": [
    "df['worktype'] = np.where(df.workclass.isin(['Local-gov','State-gov','Federal-gov']),'Government',df.workclass)"
   ]
  },
  {
   "cell_type": "code",
   "execution_count": null,
   "id": "fabulous-shepherd",
   "metadata": {},
   "outputs": [],
   "source": [
    "df['worktype'] = np.where(df.worktype.isin(['Self-emp-not-inc','Self-emp-inc']),'Self-Employed',df.worktype)"
   ]
  },
  {
   "cell_type": "code",
   "execution_count": null,
   "id": "indie-collins",
   "metadata": {},
   "outputs": [],
   "source": [
    "df['worktype'] = np.where(df.worktype.isin(['Without-pay','Never-worked']),'no-pay',df.worktype)"
   ]
  },
  {
   "cell_type": "code",
   "execution_count": null,
   "id": "cheap-leone",
   "metadata": {},
   "outputs": [],
   "source": [
    "df.worktype.value_counts()"
   ]
  },
  {
   "cell_type": "code",
   "execution_count": null,
   "id": "joint-biodiversity",
   "metadata": {},
   "outputs": [],
   "source": [
    "plt.hist(df.fnlwgt)"
   ]
  },
  {
   "cell_type": "code",
   "execution_count": null,
   "id": "electronic-agent",
   "metadata": {},
   "outputs": [],
   "source": [
    "df.education.unique()"
   ]
  },
  {
   "cell_type": "code",
   "execution_count": null,
   "id": "hundred-dependence",
   "metadata": {},
   "outputs": [],
   "source": [
    "education_cnt = {}"
   ]
  },
  {
   "cell_type": "code",
   "execution_count": null,
   "id": "heated-steel",
   "metadata": {},
   "outputs": [],
   "source": [
    "for idx,val in df.education.value_counts().items():\n",
    "    education_cnt[idx] = val"
   ]
  },
  {
   "cell_type": "code",
   "execution_count": null,
   "id": "excellent-output",
   "metadata": {},
   "outputs": [],
   "source": [
    "education_cnt"
   ]
  },
  {
   "cell_type": "code",
   "execution_count": null,
   "id": "explicit-teacher",
   "metadata": {},
   "outputs": [],
   "source": [
    "education_cnt.keys()"
   ]
  },
  {
   "cell_type": "code",
   "execution_count": null,
   "id": "sufficient-bones",
   "metadata": {},
   "outputs": [],
   "source": [
    "education_cnt.values()"
   ]
  },
  {
   "cell_type": "code",
   "execution_count": null,
   "id": "patent-double",
   "metadata": {},
   "outputs": [],
   "source": [
    "plt.bar(education_cnt.keys(), education_cnt.values())"
   ]
  },
  {
   "cell_type": "code",
   "execution_count": null,
   "id": "fifty-drunk",
   "metadata": {},
   "outputs": [],
   "source": [
    "df.education.value_counts().plot(kind='bar')\n",
    "plt.title('Distribution of Education Variable')\n",
    "plt.ylabel('Number of people')"
   ]
  },
  {
   "cell_type": "code",
   "execution_count": null,
   "id": "hawaiian-volunteer",
   "metadata": {},
   "outputs": [],
   "source": [
    "df.education.value_counts()"
   ]
  },
  {
   "cell_type": "code",
   "execution_count": null,
   "id": "embedded-baseline",
   "metadata": {},
   "outputs": [],
   "source": [
    "plt.hist(df.education_num)"
   ]
  },
  {
   "cell_type": "raw",
   "id": "thorough-phoenix",
   "metadata": {},
   "source": []
  },
  {
   "cell_type": "code",
   "execution_count": null,
   "id": "entertaining-bargain",
   "metadata": {},
   "outputs": [],
   "source": [
    "df.marital_status.value_counts().plot(kind='bar')"
   ]
  },
  {
   "cell_type": "code",
   "execution_count": null,
   "id": "injured-commerce",
   "metadata": {},
   "outputs": [],
   "source": [
    "df.occupation.value_counts().plot(kind='bar')"
   ]
  },
  {
   "cell_type": "code",
   "execution_count": null,
   "id": "continent-hampshire",
   "metadata": {},
   "outputs": [],
   "source": [
    "df.relationship.value_counts().plot(kind='bar')"
   ]
  },
  {
   "cell_type": "code",
   "execution_count": null,
   "id": "latin-davis",
   "metadata": {},
   "outputs": [],
   "source": [
    "df.race.value_counts().plot(kind='bar')"
   ]
  },
  {
   "cell_type": "code",
   "execution_count": null,
   "id": "numeric-pattern",
   "metadata": {},
   "outputs": [],
   "source": [
    "income_race_df = df.groupby(['race','income_class']).size().groupby(['race']).apply(lambda x: x*100/x.sum()).unstack().reset_index()"
   ]
  },
  {
   "cell_type": "code",
   "execution_count": null,
   "id": "electric-pixel",
   "metadata": {},
   "outputs": [],
   "source": []
  },
  {
   "cell_type": "code",
   "execution_count": null,
   "id": "matched-solomon",
   "metadata": {},
   "outputs": [],
   "source": [
    "df.sex.value_counts().plot(kind='bar')"
   ]
  },
  {
   "cell_type": "code",
   "execution_count": null,
   "id": "homeless-singapore",
   "metadata": {},
   "outputs": [],
   "source": [
    "df.groupby(['sex','income_class']).size().groupby(['sex']).apply(lambda x: x*100/x.sum()).unstack().reset_index()"
   ]
  },
  {
   "cell_type": "code",
   "execution_count": null,
   "id": "efficient-princess",
   "metadata": {},
   "outputs": [],
   "source": []
  },
  {
   "cell_type": "code",
   "execution_count": null,
   "id": "superb-david",
   "metadata": {},
   "outputs": [],
   "source": [
    "df['reported_capital_gains'] = np.where(df.capital_gains>0,1,0)\n",
    "df['reported_capital_losses'] = np.where(df.capital_losses>0,1,0)\n",
    "df['is_investor'] = np.where(((df.capital_gains>0)|(df.capital_losses>0)),1,0)"
   ]
  },
  {
   "cell_type": "code",
   "execution_count": null,
   "id": "compact-magic",
   "metadata": {},
   "outputs": [],
   "source": [
    "df.is_investor.value_counts()#.plot(kind='bar')"
   ]
  },
  {
   "cell_type": "code",
   "execution_count": null,
   "id": "constant-roads",
   "metadata": {},
   "outputs": [],
   "source": [
    "df.reported_capital_gains.value_counts()"
   ]
  },
  {
   "cell_type": "code",
   "execution_count": null,
   "id": "smaller-rings",
   "metadata": {},
   "outputs": [],
   "source": [
    "df.reported_capital_losses.value_counts()"
   ]
  },
  {
   "cell_type": "code",
   "execution_count": null,
   "id": "inner-driver",
   "metadata": {},
   "outputs": [],
   "source": [
    "2712+1519"
   ]
  },
  {
   "cell_type": "code",
   "execution_count": null,
   "id": "needed-omaha",
   "metadata": {},
   "outputs": [],
   "source": [
    "df.groupby(['is_investor','income_class']).size().groupby(['is_investor']).apply(lambda x: x*100/x.sum()).unstack().reset_index()"
   ]
  },
  {
   "cell_type": "code",
   "execution_count": null,
   "id": "motivated-begin",
   "metadata": {},
   "outputs": [],
   "source": [
    "df['works_overtime'] = np.where(df.hrs_per_week>40,1,0)"
   ]
  },
  {
   "cell_type": "code",
   "execution_count": null,
   "id": "received-spider",
   "metadata": {},
   "outputs": [],
   "source": [
    "df['works_parttime'] = np.where(df.hrs_per_week<40,1,0)"
   ]
  },
  {
   "cell_type": "code",
   "execution_count": null,
   "id": "certain-level",
   "metadata": {},
   "outputs": [],
   "source": [
    "df.groupby(['works_overtime','income_class']).size().groupby(['works_overtime']).apply(lambda x: x*100/x.sum()).unstack().reset_index()"
   ]
  },
  {
   "cell_type": "code",
   "execution_count": null,
   "id": "wicked-ivory",
   "metadata": {},
   "outputs": [],
   "source": [
    "df['is_immigrant'] = np.where(df.native_country=='United-States',0,1)"
   ]
  },
  {
   "cell_type": "code",
   "execution_count": null,
   "id": "weekly-sleep",
   "metadata": {},
   "outputs": [],
   "source": [
    "df.is_immigrant.value_counts()"
   ]
  },
  {
   "cell_type": "code",
   "execution_count": null,
   "id": "stone-binding",
   "metadata": {},
   "outputs": [],
   "source": [
    "df.groupby(['is_immigrant','income_class']).size()\\\n",
    ".groupby(['is_immigrant']).apply(lambda x: x*100/x.sum()).unstack().reset_index()"
   ]
  },
  {
   "cell_type": "code",
   "execution_count": null,
   "id": "direct-springer",
   "metadata": {},
   "outputs": [],
   "source": [
    "df.groupby(['reported_capital_losses','income_class']).size()\\\n",
    ".groupby(['reported_capital_losses']).apply(lambda x: x*100/x.sum()).unstack().reset_index()"
   ]
  },
  {
   "cell_type": "code",
   "execution_count": null,
   "id": "boolean-popularity",
   "metadata": {},
   "outputs": [],
   "source": [
    "df.groupby(['reported_capital_gains','income_class']).size()\\\n",
    ".groupby(['reported_capital_gains']).apply(lambda x: x*100/x.sum()).unstack().reset_index()"
   ]
  },
  {
   "cell_type": "code",
   "execution_count": null,
   "id": "different-explorer",
   "metadata": {},
   "outputs": [],
   "source": [
    "df.dtypes\n"
   ]
  },
  {
   "cell_type": "code",
   "execution_count": null,
   "id": "neither-valuation",
   "metadata": {},
   "outputs": [],
   "source": [
    "df.columns.values"
   ]
  }
 ],
 "metadata": {
  "kernelspec": {
   "display_name": "Python 3",
   "language": "python",
   "name": "python3"
  },
  "language_info": {
   "codemirror_mode": {
    "name": "ipython",
    "version": 3
   },
   "file_extension": ".py",
   "mimetype": "text/x-python",
   "name": "python",
   "nbconvert_exporter": "python",
   "pygments_lexer": "ipython3",
   "version": "3.8.8"
  }
 },
 "nbformat": 4,
 "nbformat_minor": 5
}
